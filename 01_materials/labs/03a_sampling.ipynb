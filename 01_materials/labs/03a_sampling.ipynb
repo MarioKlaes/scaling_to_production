{
 "cells": [
  {
   "cell_type": "code",
   "execution_count": 1,
   "metadata": {},
   "outputs": [],
   "source": [
    "%load_ext dotenv\n",
    "%dotenv \n",
    "import os\n",
    "import sys\n",
    "sys.path.append(os.getenv('SRC_DIR'))\n",
    "from logger import get_logger\n",
    "_logs = get_logger(__name__)"
   ]
  },
  {
   "cell_type": "code",
   "execution_count": 2,
   "metadata": {},
   "outputs": [
    {
     "name": "stderr",
     "output_type": "stream",
     "text": [
      "C:\\Users\\klaes\\AppData\\Local\\Temp\\ipykernel_2532\\1500862777.py:1: DeprecationWarning: The current Dask DataFrame implementation is deprecated. \n",
      "In a future release, Dask DataFrame will use new implementation that\n",
      "contains several improvements including a logical query planning.\n",
      "The user-facing DataFrame API will remain unchanged.\n",
      "\n",
      "The new implementation is already available and can be enabled by\n",
      "installing the dask-expr library:\n",
      "\n",
      "    $ pip install dask-expr\n",
      "\n",
      "and turning the query planning option on:\n",
      "\n",
      "    >>> import dask\n",
      "    >>> dask.config.set({'dataframe.query-planning': True})\n",
      "    >>> import dask.dataframe as dd\n",
      "\n",
      "API documentation for the new implementation is available at\n",
      "https://docs.dask.org/en/stable/dask-expr-api.html\n",
      "\n",
      "Any feedback can be reported on the Dask issue tracker\n",
      "https://github.com/dask/dask/issues \n",
      "\n",
      "  import dask.dataframe as dd\n"
     ]
    }
   ],
   "source": [
    "import dask.dataframe as dd\n",
    "import pandas as pd\n",
    "import numpy as np\n",
    "import os\n",
    "from glob import glob"
   ]
  },
  {
   "cell_type": "code",
   "execution_count": 3,
   "metadata": {},
   "outputs": [],
   "source": [
    "ft_dir = os.getenv(\"FEATURES_DATA\")\n",
    "ft_glob = glob(ft_dir+'/*.parquet')\n",
    "df = dd.read_parquet(ft_glob).compute().reset_index()"
   ]
  },
  {
   "cell_type": "markdown",
   "metadata": {},
   "source": [
    "# Sampling in Python"
   ]
  },
  {
   "cell_type": "markdown",
   "metadata": {},
   "source": [
    "+ There are different packages that allow sampling.\n",
    "+ A practical approach is to use pandas/Dask sampling methods."
   ]
  },
  {
   "cell_type": "markdown",
   "metadata": {},
   "source": [
    "## Random Sampling\n",
    "\n",
    "+ Sample n rows from a dataframe with [`df.sample()`](https://pandas.pydata.org/docs/reference/api/pandas.DataFrame.sample.html).\n",
    "\n",
    "```\n",
    "DataFrame.sample(\n",
    "    n=None, frac=None, replace=False, weights=None, \n",
    "    random_state=None, axis=None, ignore_index=False\n",
    "    )\n",
    "```"
   ]
  },
  {
   "cell_type": "code",
   "execution_count": 4,
   "metadata": {},
   "outputs": [
    {
     "data": {
      "text/html": [
       "<div>\n",
       "<style scoped>\n",
       "    .dataframe tbody tr th:only-of-type {\n",
       "        vertical-align: middle;\n",
       "    }\n",
       "\n",
       "    .dataframe tbody tr th {\n",
       "        vertical-align: top;\n",
       "    }\n",
       "\n",
       "    .dataframe thead th {\n",
       "        text-align: right;\n",
       "    }\n",
       "</style>\n",
       "<table border=\"1\" class=\"dataframe\">\n",
       "  <thead>\n",
       "    <tr style=\"text-align: right;\">\n",
       "      <th></th>\n",
       "      <th>ticker</th>\n",
       "      <th>Date</th>\n",
       "      <th>Open</th>\n",
       "      <th>High</th>\n",
       "      <th>Low</th>\n",
       "      <th>Close</th>\n",
       "      <th>Adj Close</th>\n",
       "      <th>Volume</th>\n",
       "      <th>sector</th>\n",
       "      <th>subsector</th>\n",
       "      <th>year</th>\n",
       "      <th>Close_lag_1</th>\n",
       "      <th>returns</th>\n",
       "      <th>positive_return</th>\n",
       "      <th>target</th>\n",
       "    </tr>\n",
       "  </thead>\n",
       "  <tbody>\n",
       "    <tr>\n",
       "      <th>645859</th>\n",
       "      <td>REG</td>\n",
       "      <td>2012-08-01</td>\n",
       "      <td>47.970001</td>\n",
       "      <td>49.200001</td>\n",
       "      <td>47.77</td>\n",
       "      <td>48.639999</td>\n",
       "      <td>31.190165</td>\n",
       "      <td>1066500</td>\n",
       "      <td>Real Estate</td>\n",
       "      <td>Retail REITs</td>\n",
       "      <td>2012</td>\n",
       "      <td>47.849998</td>\n",
       "      <td>0.016510</td>\n",
       "      <td>1</td>\n",
       "      <td>1.0</td>\n",
       "    </tr>\n",
       "    <tr>\n",
       "      <th>753734</th>\n",
       "      <td>PG</td>\n",
       "      <td>2006-10-17</td>\n",
       "      <td>61.790001</td>\n",
       "      <td>62.480000</td>\n",
       "      <td>61.77</td>\n",
       "      <td>62.250000</td>\n",
       "      <td>37.502850</td>\n",
       "      <td>6684000</td>\n",
       "      <td>Consumer Staples</td>\n",
       "      <td>Personal Care Products</td>\n",
       "      <td>2006</td>\n",
       "      <td>62.049999</td>\n",
       "      <td>0.003223</td>\n",
       "      <td>1</td>\n",
       "      <td>1.0</td>\n",
       "    </tr>\n",
       "    <tr>\n",
       "      <th>914656</th>\n",
       "      <td>KR</td>\n",
       "      <td>2020-01-13</td>\n",
       "      <td>28.340000</td>\n",
       "      <td>28.709999</td>\n",
       "      <td>28.25</td>\n",
       "      <td>28.420000</td>\n",
       "      <td>25.816574</td>\n",
       "      <td>3796000</td>\n",
       "      <td>Consumer Staples</td>\n",
       "      <td>Food Retail</td>\n",
       "      <td>2020</td>\n",
       "      <td>28.360001</td>\n",
       "      <td>0.002116</td>\n",
       "      <td>1</td>\n",
       "      <td>1.0</td>\n",
       "    </tr>\n",
       "    <tr>\n",
       "      <th>1926802</th>\n",
       "      <td>JBL</td>\n",
       "      <td>2015-11-20</td>\n",
       "      <td>24.700001</td>\n",
       "      <td>25.219999</td>\n",
       "      <td>24.67</td>\n",
       "      <td>25.209999</td>\n",
       "      <td>23.369980</td>\n",
       "      <td>2796400</td>\n",
       "      <td>Information Technology</td>\n",
       "      <td>Electronic Manufacturing Services</td>\n",
       "      <td>2015</td>\n",
       "      <td>24.629999</td>\n",
       "      <td>0.023549</td>\n",
       "      <td>1</td>\n",
       "      <td>1.0</td>\n",
       "    </tr>\n",
       "    <tr>\n",
       "      <th>2431002</th>\n",
       "      <td>CHRW</td>\n",
       "      <td>2015-09-28</td>\n",
       "      <td>68.730003</td>\n",
       "      <td>69.440002</td>\n",
       "      <td>67.82</td>\n",
       "      <td>67.860001</td>\n",
       "      <td>54.748058</td>\n",
       "      <td>1758900</td>\n",
       "      <td>Industrials</td>\n",
       "      <td>Air Freight &amp; Logistics</td>\n",
       "      <td>2015</td>\n",
       "      <td>68.529999</td>\n",
       "      <td>-0.009777</td>\n",
       "      <td>0</td>\n",
       "      <td>1.0</td>\n",
       "    </tr>\n",
       "  </tbody>\n",
       "</table>\n",
       "</div>"
      ],
      "text/plain": [
       "        ticker       Date       Open       High    Low      Close  Adj Close  \\\n",
       "645859     REG 2012-08-01  47.970001  49.200001  47.77  48.639999  31.190165   \n",
       "753734      PG 2006-10-17  61.790001  62.480000  61.77  62.250000  37.502850   \n",
       "914656      KR 2020-01-13  28.340000  28.709999  28.25  28.420000  25.816574   \n",
       "1926802    JBL 2015-11-20  24.700001  25.219999  24.67  25.209999  23.369980   \n",
       "2431002   CHRW 2015-09-28  68.730003  69.440002  67.82  67.860001  54.748058   \n",
       "\n",
       "          Volume                  sector                          subsector  \\\n",
       "645859   1066500             Real Estate                       Retail REITs   \n",
       "753734   6684000        Consumer Staples             Personal Care Products   \n",
       "914656   3796000        Consumer Staples                        Food Retail   \n",
       "1926802  2796400  Information Technology  Electronic Manufacturing Services   \n",
       "2431002  1758900             Industrials            Air Freight & Logistics   \n",
       "\n",
       "         year  Close_lag_1   returns  positive_return  target  \n",
       "645859   2012    47.849998  0.016510                1     1.0  \n",
       "753734   2006    62.049999  0.003223                1     1.0  \n",
       "914656   2020    28.360001  0.002116                1     1.0  \n",
       "1926802  2015    24.629999  0.023549                1     1.0  \n",
       "2431002  2015    68.529999 -0.009777                0     1.0  "
      ]
     },
     "execution_count": 4,
     "metadata": {},
     "output_type": "execute_result"
    }
   ],
   "source": [
    "df.sample(n = 5)\n",
    "# n -> number of rows\n",
    "# frac = 0.01 -> get 1% of the data set\n",
    "# random_state = 10 -> fixed the random state having allways the same sample\n"
   ]
  },
  {
   "cell_type": "code",
   "execution_count": 5,
   "metadata": {},
   "outputs": [
    {
     "data": {
      "text/plain": [
       "['OXY', 'TXN', 'PCG', 'CBRE', 'ROK', 'AMT', 'D', 'YUM', 'PWR']"
      ]
     },
     "execution_count": 5,
     "metadata": {},
     "output_type": "execute_result"
    }
   ],
   "source": [
    "# select_tickers = df['ticker'].unique().tolist()[0:9]\n",
    "select_tickers = ['OXY', 'TXN', 'PCG', 'CBRE', 'ROK', 'AMT', 'D', 'YUM', 'PWR']\n",
    "select_tickers"
   ]
  },
  {
   "cell_type": "code",
   "execution_count": 7,
   "metadata": {},
   "outputs": [
    {
     "data": {
      "text/plain": [
       "((5432, 15), (54317, 15))"
      ]
     },
     "execution_count": 7,
     "metadata": {},
     "output_type": "execute_result"
    }
   ],
   "source": [
    "idx = df['ticker'].isin(select_tickers)\n",
    "small_df = df[idx]\n",
    "simple_sample_dt = small_df.sample(frac = 0.1)\n",
    "\n",
    "simple_sample_dt.shape, small_df.shape"
   ]
  },
  {
   "cell_type": "markdown",
   "metadata": {},
   "source": [
    "Look at the distribution of tickers."
   ]
  },
  {
   "cell_type": "code",
   "execution_count": 9,
   "metadata": {},
   "outputs": [
    {
     "data": {
      "text/plain": [
       "ticker\n",
       "D       6159\n",
       "AMT     6159\n",
       "PWR     6159\n",
       "ROK     6159\n",
       "OXY     6159\n",
       "TXN     6159\n",
       "YUM     6159\n",
       "PCG     6159\n",
       "CBRE    5045\n",
       "Name: count, dtype: int64[pyarrow]"
      ]
     },
     "execution_count": 9,
     "metadata": {},
     "output_type": "execute_result"
    }
   ],
   "source": [
    "small_df['ticker'].value_counts()"
   ]
  },
  {
   "cell_type": "code",
   "execution_count": 8,
   "metadata": {},
   "outputs": [
    {
     "data": {
      "text/plain": [
       "<Axes: xlabel='ticker'>"
      ]
     },
     "execution_count": 8,
     "metadata": {},
     "output_type": "execute_result"
    },
    {
     "data": {
      "image/png": "[encoded data removed]",
      "text/plain": [
       "<Figure size 640x480 with 1 Axes>"
      ]
     },
     "metadata": {},
     "output_type": "display_data"
    }
   ],
   "source": [
    "# original population looks like the graphic below\n",
    "small_df['ticker'].value_counts().plot(kind='bar')"
   ]
  },
  {
   "cell_type": "code",
   "execution_count": 10,
   "metadata": {},
   "outputs": [
    {
     "data": {
      "text/plain": [
       "<Axes: xlabel='ticker'>"
      ]
     },
     "execution_count": 10,
     "metadata": {},
     "output_type": "execute_result"
    },
    {
     "data": {
      "image/png": "[encoded data removed]",
      "text/plain": [
       "<Figure size 640x480 with 1 Axes>"
      ]
     },
     "metadata": {},
     "output_type": "display_data"
    }
   ],
   "source": [
    "# the data frame below no longer loos like the original population ... so this is not good\n",
    "simple_sample_dt['ticker'].value_counts().plot(kind='bar')"
   ]
  },
  {
   "cell_type": "markdown",
   "metadata": {},
   "source": [
    "## Stratified Sampling\n",
    "\n",
    "+ Use `groupby()` and `.sample()` for stratified sampling."
   ]
  },
  {
   "cell_type": "code",
   "execution_count": 12,
   "metadata": {},
   "outputs": [
    {
     "data": {
      "text/plain": [
       "<Axes: xlabel='ticker'>"
      ]
     },
     "execution_count": 12,
     "metadata": {},
     "output_type": "execute_result"
    },
    {
     "data": {
      "image/png": "[encoded data removed]",
      "text/plain": [
       "<Figure size 640x480 with 1 Axes>"
      ]
     },
     "metadata": {},
     "output_type": "display_data"
    }
   ],
   "source": [
    "# now the distribution looks like the orignal population ... \n",
    "# the code below implements the stratified sampling\n",
    "\n",
    "strat_sample_dt = small_df.groupby(['ticker']).sample(frac = 0.1)\n",
    "strat_sample_dt['ticker'].value_counts().plot(kind='bar')"
   ]
  },
  {
   "cell_type": "markdown",
   "metadata": {},
   "source": [
    "# Sampling in Dask\n",
    "\n",
    "+ Stratified sampling in `dask` can be achieved with `groupby().apply()` and a lambda function."
   ]
  },
  {
   "cell_type": "code",
   "execution_count": 13,
   "metadata": {},
   "outputs": [
    {
     "name": "stderr",
     "output_type": "stream",
     "text": [
      "C:\\Users\\klaes\\AppData\\Local\\Temp\\ipykernel_2532\\2932236319.py:2: UserWarning: `meta` is not specified, inferred from partial data. Please provide `meta` if the result is unexpected.\n",
      "  Before: .apply(func)\n",
      "  After:  .apply(func, meta={'x': 'f8', 'y': 'f8'}) for dataframe result\n",
      "  or:     .apply(func, meta=('x', 'f8'))            for series result\n",
      "  strat_sample_dd_dt = (dd_dt\n"
     ]
    },
    {
     "data": {
      "text/plain": [
       "<Axes: xlabel='ticker'>"
      ]
     },
     "execution_count": 13,
     "metadata": {},
     "output_type": "execute_result"
    },
    {
     "data": {
      "image/png": "[encoded data removed]",
      "text/plain": [
       "<Figure size 640x480 with 1 Axes>"
      ]
     },
     "metadata": {},
     "output_type": "display_data"
    }
   ],
   "source": [
    "dd_dt = dd.read_parquet(ft_glob)\n",
    "strat_sample_dd_dt = (dd_dt\n",
    "                      .groupby('ticker', group_keys=False)\n",
    "                      .apply(lambda x: x.sample(frac = 0.1))\n",
    "                      .compute()\n",
    "                      .reset_index())\n",
    "strat_sample_dd_dt[strat_sample_dd_dt['ticker'].isin(select_tickers)]['ticker'].value_counts().plot(kind='bar')"
   ]
  }
 ],
 "metadata": {
  "kernelspec": {
   "display_name": "env",
   "language": "python",
   "name": "python3"
  },
  "language_info": {
   "codemirror_mode": {
    "name": "ipython",
    "version": 3
   },
   "file_extension": ".py",
   "mimetype": "text/x-python",
   "name": "python",
   "nbconvert_exporter": "python",
   "pygments_lexer": "ipython3",
   "version": "3.9.15"
  }
 },
 "nbformat": 4,
 "nbformat_minor": 2
}
